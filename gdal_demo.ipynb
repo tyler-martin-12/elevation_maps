{
 "cells": [
  {
   "cell_type": "code",
   "execution_count": 34,
   "metadata": {},
   "outputs": [],
   "source": [
    "import gdal\n",
    "import pickle\n",
    "import os"
   ]
  },
  {
   "cell_type": "code",
   "execution_count": null,
   "metadata": {},
   "outputs": [],
   "source": []
  },
  {
   "cell_type": "code",
   "execution_count": 31,
   "metadata": {},
   "outputs": [],
   "source": [
    "def process_data(path):\n",
    "    adf_file = gdal.Open(path)\n",
    "    geo = adf_file.ReadAsArray()\n",
    "    return geo"
   ]
  },
  {
   "cell_type": "code",
   "execution_count": 5,
   "metadata": {},
   "outputs": [],
   "source": [
    "path = 'from_zip/n38w104/grdn38w104_13/w001001.adf'"
   ]
  },
  {
   "cell_type": "code",
   "execution_count": 6,
   "metadata": {},
   "outputs": [],
   "source": [
    "adf_file = gdal.Open(path)"
   ]
  },
  {
   "cell_type": "code",
   "execution_count": 8,
   "metadata": {},
   "outputs": [],
   "source": [
    "geo = adf_file.ReadAsArray()"
   ]
  },
  {
   "cell_type": "code",
   "execution_count": 17,
   "metadata": {},
   "outputs": [
    {
     "data": {
      "text/plain": [
       "(10812, 10812)"
      ]
     },
     "execution_count": 17,
     "metadata": {},
     "output_type": "execute_result"
    }
   ],
   "source": [
    "geo.shape"
   ]
  },
  {
   "cell_type": "code",
   "execution_count": 15,
   "metadata": {},
   "outputs": [],
   "source": [
    "## all to CSV"
   ]
  },
  {
   "cell_type": "code",
   "execution_count": 18,
   "metadata": {},
   "outputs": [],
   "source": [
    "with open"
   ]
  },
  {
   "cell_type": "code",
   "execution_count": 25,
   "metadata": {},
   "outputs": [],
   "source": [
    "name = 'n38w104'\n",
    "save_path = f'processed_data/data_for_{name}.pickle'"
   ]
  },
  {
   "cell_type": "code",
   "execution_count": 26,
   "metadata": {},
   "outputs": [
    {
     "data": {
      "text/plain": [
       "'processed_data/data_for_n38w104.pickle'"
      ]
     },
     "execution_count": 26,
     "metadata": {},
     "output_type": "execute_result"
    }
   ],
   "source": [
    "save_path"
   ]
  },
  {
   "cell_type": "code",
   "execution_count": 27,
   "metadata": {},
   "outputs": [],
   "source": [
    "with open (save_path,'wb') as f:\n",
    "    pickle.dump(geo,f)"
   ]
  },
  {
   "cell_type": "code",
   "execution_count": null,
   "metadata": {},
   "outputs": [],
   "source": []
  },
  {
   "cell_type": "code",
   "execution_count": null,
   "metadata": {},
   "outputs": [],
   "source": []
  },
  {
   "cell_type": "code",
   "execution_count": null,
   "metadata": {},
   "outputs": [],
   "source": [
    "## save all to processed data"
   ]
  },
  {
   "cell_type": "code",
   "execution_count": 28,
   "metadata": {},
   "outputs": [],
   "source": [
    "with open('url_list.pickle','rb') as f:\n",
    "    url_list = pickle.load(f)"
   ]
  },
  {
   "cell_type": "code",
   "execution_count": null,
   "metadata": {},
   "outputs": [],
   "source": []
  },
  {
   "cell_type": "code",
   "execution_count": 41,
   "metadata": {},
   "outputs": [],
   "source": [
    "## change names\n",
    "data_dirs = []\n",
    "for url,name in url_list:\n",
    "    short_name = name\n",
    "    if '_' in name: \n",
    "        short_name = name.split('_')[3]\n",
    "    data_dirs.append(short_name)\n",
    "    #if short_name:\n",
    "    #    os.rename(f'from_zip/{name}', f'from_zip/{short_name}')\n",
    "    "
   ]
  },
  {
   "cell_type": "code",
   "execution_count": 47,
   "metadata": {},
   "outputs": [],
   "source": [
    "adf_files = []\n",
    "\n",
    "for name in data_dirs:\n",
    "    path = f'from_zip/{name}/grd{name}_13/w001001.adf'\n",
    "    path_exists = os.path.exists(path)\n",
    "    if not path_exists:\n",
    "        print(name)\n",
    "    else:\n",
    "        adf_files.append(path)"
   ]
  },
  {
   "cell_type": "code",
   "execution_count": 52,
   "metadata": {},
   "outputs": [
    {
     "name": "stdout",
     "output_type": "stream",
     "text": [
      "done with n40w104\n",
      "done with n39w104\n",
      "done with n39w108\n",
      "done with n39w105\n",
      "done with n39w107\n",
      "done with n39w106\n",
      "done with n40w106\n",
      "done with n40w105\n",
      "done with n40w108\n",
      "done with n40w107\n",
      "done with n39w109\n",
      "done with n40w109\n",
      "done with n38w106\n",
      "done with n38w104\n",
      "done with n38w105\n",
      "done with n38w107\n",
      "done with n38w108\n",
      "done with n41w106\n",
      "done with n41w105\n",
      "done with n41w104\n",
      "done with n41w107\n",
      "done with n41w108\n",
      "done with n39w103\n",
      "done with n40w103\n",
      "done with n38w109\n",
      "done with n41w109\n",
      "done with n38w103\n",
      "done with n41w103\n"
     ]
    }
   ],
   "source": [
    "for adf_file,name in zip(adf_files,data_dirs):\n",
    "    geo = process_data(adf_file)\n",
    "    save_path = f'processed_data/data_for_{name}.pickle'\n",
    "    with open (save_path,'wb') as f:\n",
    "        pickle.dump(geo,f)\n",
    "    print(f'done with {name}')"
   ]
  },
  {
   "cell_type": "code",
   "execution_count": 53,
   "metadata": {},
   "outputs": [
    {
     "data": {
      "text/plain": [
       "'processed_data/data_for_n41w103.pickle'"
      ]
     },
     "execution_count": 53,
     "metadata": {},
     "output_type": "execute_result"
    }
   ],
   "source": [
    "save_path"
   ]
  },
  {
   "cell_type": "code",
   "execution_count": 54,
   "metadata": {},
   "outputs": [],
   "source": [
    "with open(save_path,'rb') as f:\n",
    "    geo = pickle.load(f)"
   ]
  },
  {
   "cell_type": "code",
   "execution_count": 58,
   "metadata": {},
   "outputs": [],
   "source": [
    "zip_list = zip(adf_files,data_dirs)"
   ]
  },
  {
   "cell_type": "code",
   "execution_count": 59,
   "metadata": {},
   "outputs": [],
   "source": [
    "save_path = 'zip_list.pickle'\n",
    "with open(save_path,'wb') as f:\n",
    "     pickle.dump(zip_list,f)"
   ]
  },
  {
   "cell_type": "code",
   "execution_count": null,
   "metadata": {},
   "outputs": [],
   "source": []
  },
  {
   "cell_type": "code",
   "execution_count": null,
   "metadata": {},
   "outputs": [],
   "source": []
  }
 ],
 "metadata": {
  "kernelspec": {
   "display_name": "Python 3",
   "language": "python",
   "name": "python3"
  },
  "language_info": {
   "codemirror_mode": {
    "name": "ipython",
    "version": 3
   },
   "file_extension": ".py",
   "mimetype": "text/x-python",
   "name": "python",
   "nbconvert_exporter": "python",
   "pygments_lexer": "ipython3",
   "version": "3.6.8"
  }
 },
 "nbformat": 4,
 "nbformat_minor": 2
}
